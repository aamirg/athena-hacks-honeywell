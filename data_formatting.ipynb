{
 "cells": [
  {
   "cell_type": "markdown",
   "metadata": {},
   "source": [
    "#### The data used in this demo is available at https://archive.ics.uci.edu/ml/datasets/Gas+Sensor+Array+Drift+Dataset\n",
    "\n",
    "##### Citation :Alexander Vergara and Shankar Vembu and Tuba Ayhan and Margaret A. Ryan and Margie L. Homer and RamÃ³n Huerta, Chemical gas sensor drift compensation using classifier ensembles, Sensors and Actuators B: Chemical (2012) doi: 10.1016/j.snb.2012.01.074. "
   ]
  },
  {
   "cell_type": "code",
   "execution_count": 1,
   "metadata": {
    "collapsed": false
   },
   "outputs": [],
   "source": [
    "from os import listdir\n",
    "from os.path import isfile, join"
   ]
  },
  {
   "cell_type": "markdown",
   "metadata": {},
   "source": [
    "### This snippet is used to create the column names for the 128 attributes (16 sensors and 8 attributes measured by each sensor), the target label and batch number for the corresponding row.\n",
    "\n",
    "##### We add '\\n' to the 'Batch_no' label to signify EOL. If we use 'csv' package then we don't need to add that, the 'writer' method will handle it"
   ]
  },
  {
   "cell_type": "code",
   "execution_count": 8,
   "metadata": {
    "collapsed": false
   },
   "outputs": [
    {
     "name": "stdout",
     "output_type": "stream",
     "text": [
      "Number of columns - 130\n"
     ]
    }
   ],
   "source": [
    "col_names = ['Label']\n",
    "for x in map(chr,range(65,81)):\n",
    "    for y in map(str,range(1,9)):\n",
    "        col_names.append('Sensor_'+x+y)\n",
    "col_names.append('Batch_No\\n')\n",
    "print 'Number of columns -',len(col_names)"
   ]
  },
  {
   "cell_type": "markdown",
   "metadata": {},
   "source": [
    "### Open a csv file and write the column names to it "
   ]
  },
  {
   "cell_type": "code",
   "execution_count": 3,
   "metadata": {
    "collapsed": false
   },
   "outputs": [],
   "source": [
    "out=open('formatted_data.csv','w')\n",
    "out.write(','.join(col_names))"
   ]
  },
  {
   "cell_type": "markdown",
   "metadata": {},
   "source": [
    "### Get the file names for all the files from the 'raw_data' directory"
   ]
  },
  {
   "cell_type": "code",
   "execution_count": 4,
   "metadata": {
    "collapsed": true
   },
   "outputs": [],
   "source": [
    "raw_files = [f for f in listdir('./raw_data') if isfile(join('./raw_data', f))]"
   ]
  },
  {
   "cell_type": "markdown",
   "metadata": {},
   "source": [
    "### Read the data in from each file, format it by -\n",
    "1. Strip extra whitespaces and split on whitespace\n",
    "2. Add the batch number from file name, the target label\n",
    "3. Split the key value pairs on ':'  and retrieve the values "
   ]
  },
  {
   "cell_type": "code",
   "execution_count": 5,
   "metadata": {
    "collapsed": true
   },
   "outputs": [],
   "source": [
    "for file_name in raw_files:\n",
    "    with open('./raw_data/'+file_name,'r') as f:\n",
    "        for i in f:\n",
    "            j=i.strip().split(' ')\n",
    "            out.write(','.join([j[0]]+[k.split(':')[1] for k in j[1:]]+[file_name.strip('batch').split('.')[0],'\\n']))\n",
    "out.close()"
   ]
  },
  {
   "cell_type": "markdown",
   "metadata": {},
   "source": [
    "#### The above snippet can be rewritten in the long form as"
   ]
  },
  {
   "cell_type": "code",
   "execution_count": 6,
   "metadata": {
    "collapsed": true
   },
   "outputs": [],
   "source": [
    "#for file_name in raw_files:\n",
    "#    with open('./raw_data/'+file_name,'r') as f:\n",
    "#        for i in f:\n",
    "#            j=i.strip().split(' ')\n",
    "#            target_label = [j[0]]\n",
    "#            attributes = [k.split(':')[1] for k in j[1:]]\n",
    "#            batch_no = [file_name.strip('batch').split('.')[0],'\\n']\n",
    "#            out.write(','.join(target_label+attributes+batch_no))\n",
    "#out.close()"
   ]
  }
 ],
 "metadata": {
  "anaconda-cloud": {},
  "kernelspec": {
   "display_name": "Python [conda root]",
   "language": "python",
   "name": "conda-root-py"
  },
  "language_info": {
   "codemirror_mode": {
    "name": "ipython",
    "version": 2
   },
   "file_extension": ".py",
   "mimetype": "text/x-python",
   "name": "python",
   "nbconvert_exporter": "python",
   "pygments_lexer": "ipython2",
   "version": "2.7.12"
  }
 },
 "nbformat": 4,
 "nbformat_minor": 1
}
