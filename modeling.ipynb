{
 "cells": [
  {
   "cell_type": "code",
   "execution_count": 2,
   "metadata": {
    "collapsed": true
   },
   "outputs": [],
   "source": [
    "import numpy as np\n",
    "import pandas as pd"
   ]
  },
  {
   "cell_type": "markdown",
   "metadata": {},
   "source": [
    "### Supervised Learning\n",
    "\n",
    "Supervised learning is the machine learning task of inferring a function from labeled training data. The training data consist of a set of training examples. Each example is a pair consisting of an input object (typically a vector) and a desired output value. A supervised learning algorithm analyzes the training data and produces an inferred function, which can be used for mapping new examples. \n",
    "\n",
    "- **Classification** - Identifying to which category an object belongs to. \n",
    "- **Regression** - Predicting a continuous-valued attribute associated with an object."
   ]
  },
  {
   "cell_type": "markdown",
   "metadata": {},
   "source": [
    "### Understanding the data\n",
    "\n",
    "This dataset contains 13910 measurements from 16 chemical sensors utilized in simulations for drift compensation in a discrimination task of 6 gases at various levels of concentrations.\n",
    "The dataset comprises recordings from six distinct pure gaseous substances, namely Ammonia, Acetaldehyde, Acetone, Ethylene, Ethanol, and Toluene, each dosed at a wide variety of concentration values ranging from 5 to 1000 ppmv.\n",
    "\n",
    "#### Read the csv data into a Pandas dataframe and print the first 5 rows"
   ]
  },
  {
   "cell_type": "code",
   "execution_count": 3,
   "metadata": {
    "collapsed": false
   },
   "outputs": [
    {
     "data": {
      "text/html": [
       "<div>\n",
       "<table border=\"1\" class=\"dataframe\">\n",
       "  <thead>\n",
       "    <tr style=\"text-align: right;\">\n",
       "      <th></th>\n",
       "      <th>Label</th>\n",
       "      <th>Sensor_A1</th>\n",
       "      <th>Sensor_A2</th>\n",
       "      <th>Sensor_A3</th>\n",
       "      <th>Sensor_A4</th>\n",
       "      <th>Sensor_A5</th>\n",
       "      <th>Sensor_A6</th>\n",
       "      <th>Sensor_A7</th>\n",
       "      <th>Sensor_A8</th>\n",
       "      <th>Sensor_B1</th>\n",
       "      <th>...</th>\n",
       "      <th>Sensor_O8</th>\n",
       "      <th>Sensor_P1</th>\n",
       "      <th>Sensor_P2</th>\n",
       "      <th>Sensor_P3</th>\n",
       "      <th>Sensor_P4</th>\n",
       "      <th>Sensor_P5</th>\n",
       "      <th>Sensor_P6</th>\n",
       "      <th>Sensor_P7</th>\n",
       "      <th>Sensor_P8</th>\n",
       "      <th>Batch_No</th>\n",
       "    </tr>\n",
       "  </thead>\n",
       "  <tbody>\n",
       "    <tr>\n",
       "      <th>0</th>\n",
       "      <td>1</td>\n",
       "      <td>15596.1621</td>\n",
       "      <td>1.868245</td>\n",
       "      <td>2.371604</td>\n",
       "      <td>2.803678</td>\n",
       "      <td>7.512213</td>\n",
       "      <td>-2.739388</td>\n",
       "      <td>-3.344671</td>\n",
       "      <td>-4.847512</td>\n",
       "      <td>15326.6914</td>\n",
       "      <td>...</td>\n",
       "      <td>-3.037772</td>\n",
       "      <td>3037.0390</td>\n",
       "      <td>3.972203</td>\n",
       "      <td>0.527291</td>\n",
       "      <td>0.728443</td>\n",
       "      <td>1.445783</td>\n",
       "      <td>-0.545079</td>\n",
       "      <td>-0.902241</td>\n",
       "      <td>-2.654529</td>\n",
       "      <td>1</td>\n",
       "    </tr>\n",
       "    <tr>\n",
       "      <th>1</th>\n",
       "      <td>1</td>\n",
       "      <td>26402.0704</td>\n",
       "      <td>2.532401</td>\n",
       "      <td>5.411209</td>\n",
       "      <td>6.509906</td>\n",
       "      <td>7.658469</td>\n",
       "      <td>-4.722217</td>\n",
       "      <td>-5.817651</td>\n",
       "      <td>-7.518333</td>\n",
       "      <td>23855.7812</td>\n",
       "      <td>...</td>\n",
       "      <td>-1.994993</td>\n",
       "      <td>4176.4453</td>\n",
       "      <td>4.281373</td>\n",
       "      <td>0.980205</td>\n",
       "      <td>1.628050</td>\n",
       "      <td>1.951172</td>\n",
       "      <td>-0.889333</td>\n",
       "      <td>-1.323505</td>\n",
       "      <td>-1.749225</td>\n",
       "      <td>1</td>\n",
       "    </tr>\n",
       "    <tr>\n",
       "      <th>2</th>\n",
       "      <td>1</td>\n",
       "      <td>42103.5820</td>\n",
       "      <td>3.454189</td>\n",
       "      <td>8.198175</td>\n",
       "      <td>10.508439</td>\n",
       "      <td>11.611003</td>\n",
       "      <td>-7.668313</td>\n",
       "      <td>-9.478675</td>\n",
       "      <td>-12.230939</td>\n",
       "      <td>37562.3008</td>\n",
       "      <td>...</td>\n",
       "      <td>-2.867291</td>\n",
       "      <td>5914.6685</td>\n",
       "      <td>5.396827</td>\n",
       "      <td>1.403973</td>\n",
       "      <td>2.476956</td>\n",
       "      <td>3.039841</td>\n",
       "      <td>-1.334558</td>\n",
       "      <td>-1.993659</td>\n",
       "      <td>-2.348370</td>\n",
       "      <td>1</td>\n",
       "    </tr>\n",
       "    <tr>\n",
       "      <th>3</th>\n",
       "      <td>1</td>\n",
       "      <td>42825.9883</td>\n",
       "      <td>3.451192</td>\n",
       "      <td>12.113940</td>\n",
       "      <td>16.266853</td>\n",
       "      <td>39.910056</td>\n",
       "      <td>-7.849409</td>\n",
       "      <td>-9.689894</td>\n",
       "      <td>-11.921704</td>\n",
       "      <td>38379.0664</td>\n",
       "      <td>...</td>\n",
       "      <td>-3.058086</td>\n",
       "      <td>6147.4744</td>\n",
       "      <td>5.501071</td>\n",
       "      <td>1.981933</td>\n",
       "      <td>3.569823</td>\n",
       "      <td>4.049197</td>\n",
       "      <td>-1.432205</td>\n",
       "      <td>-2.146158</td>\n",
       "      <td>-2.488957</td>\n",
       "      <td>1</td>\n",
       "    </tr>\n",
       "    <tr>\n",
       "      <th>4</th>\n",
       "      <td>1</td>\n",
       "      <td>58151.1757</td>\n",
       "      <td>4.194839</td>\n",
       "      <td>11.455096</td>\n",
       "      <td>15.715298</td>\n",
       "      <td>17.654915</td>\n",
       "      <td>-11.083364</td>\n",
       "      <td>-13.580692</td>\n",
       "      <td>-16.407848</td>\n",
       "      <td>51975.5899</td>\n",
       "      <td>...</td>\n",
       "      <td>-4.181920</td>\n",
       "      <td>8158.6449</td>\n",
       "      <td>7.174334</td>\n",
       "      <td>1.993808</td>\n",
       "      <td>3.829303</td>\n",
       "      <td>4.402448</td>\n",
       "      <td>-1.930107</td>\n",
       "      <td>-2.931265</td>\n",
       "      <td>-4.088756</td>\n",
       "      <td>1</td>\n",
       "    </tr>\n",
       "  </tbody>\n",
       "</table>\n",
       "<p>5 rows × 130 columns</p>\n",
       "</div>"
      ],
      "text/plain": [
       "   Label   Sensor_A1  Sensor_A2  Sensor_A3  Sensor_A4  Sensor_A5  Sensor_A6  \\\n",
       "0      1  15596.1621   1.868245   2.371604   2.803678   7.512213  -2.739388   \n",
       "1      1  26402.0704   2.532401   5.411209   6.509906   7.658469  -4.722217   \n",
       "2      1  42103.5820   3.454189   8.198175  10.508439  11.611003  -7.668313   \n",
       "3      1  42825.9883   3.451192  12.113940  16.266853  39.910056  -7.849409   \n",
       "4      1  58151.1757   4.194839  11.455096  15.715298  17.654915 -11.083364   \n",
       "\n",
       "   Sensor_A7  Sensor_A8   Sensor_B1    ...     Sensor_O8  Sensor_P1  \\\n",
       "0  -3.344671  -4.847512  15326.6914    ...     -3.037772  3037.0390   \n",
       "1  -5.817651  -7.518333  23855.7812    ...     -1.994993  4176.4453   \n",
       "2  -9.478675 -12.230939  37562.3008    ...     -2.867291  5914.6685   \n",
       "3  -9.689894 -11.921704  38379.0664    ...     -3.058086  6147.4744   \n",
       "4 -13.580692 -16.407848  51975.5899    ...     -4.181920  8158.6449   \n",
       "\n",
       "   Sensor_P2  Sensor_P3  Sensor_P4  Sensor_P5  Sensor_P6  Sensor_P7  \\\n",
       "0   3.972203   0.527291   0.728443   1.445783  -0.545079  -0.902241   \n",
       "1   4.281373   0.980205   1.628050   1.951172  -0.889333  -1.323505   \n",
       "2   5.396827   1.403973   2.476956   3.039841  -1.334558  -1.993659   \n",
       "3   5.501071   1.981933   3.569823   4.049197  -1.432205  -2.146158   \n",
       "4   7.174334   1.993808   3.829303   4.402448  -1.930107  -2.931265   \n",
       "\n",
       "   Sensor_P8  Batch_No  \n",
       "0  -2.654529         1  \n",
       "1  -1.749225         1  \n",
       "2  -2.348370         1  \n",
       "3  -2.488957         1  \n",
       "4  -4.088756         1  \n",
       "\n",
       "[5 rows x 130 columns]"
      ]
     },
     "execution_count": 3,
     "metadata": {},
     "output_type": "execute_result"
    }
   ],
   "source": [
    "data = pd.read_csv(\"./formatted_data.csv\",header=0, index_col=False)\n",
    "data.head()"
   ]
  },
  {
   "cell_type": "markdown",
   "metadata": {},
   "source": [
    "#### For each sensor the second column is the normalized form of the first column, so to avoid duplicates we drop the first column (A1,B1...P1) for each sensor."
   ]
  },
  {
   "cell_type": "code",
   "execution_count": 4,
   "metadata": {
    "collapsed": false
   },
   "outputs": [
    {
     "data": {
      "text/html": [
       "<div>\n",
       "<table border=\"1\" class=\"dataframe\">\n",
       "  <thead>\n",
       "    <tr style=\"text-align: right;\">\n",
       "      <th></th>\n",
       "      <th>Label</th>\n",
       "      <th>Sensor_A2</th>\n",
       "      <th>Sensor_A3</th>\n",
       "      <th>Sensor_A4</th>\n",
       "      <th>Sensor_A5</th>\n",
       "      <th>Sensor_A6</th>\n",
       "      <th>Sensor_A7</th>\n",
       "      <th>Sensor_A8</th>\n",
       "      <th>Sensor_B2</th>\n",
       "      <th>Sensor_B3</th>\n",
       "      <th>...</th>\n",
       "      <th>Sensor_O6</th>\n",
       "      <th>Sensor_O7</th>\n",
       "      <th>Sensor_O8</th>\n",
       "      <th>Sensor_P2</th>\n",
       "      <th>Sensor_P3</th>\n",
       "      <th>Sensor_P4</th>\n",
       "      <th>Sensor_P5</th>\n",
       "      <th>Sensor_P6</th>\n",
       "      <th>Sensor_P7</th>\n",
       "      <th>Sensor_P8</th>\n",
       "    </tr>\n",
       "  </thead>\n",
       "  <tbody>\n",
       "    <tr>\n",
       "      <th>0</th>\n",
       "      <td>1</td>\n",
       "      <td>1.868245</td>\n",
       "      <td>2.371604</td>\n",
       "      <td>2.803678</td>\n",
       "      <td>7.512213</td>\n",
       "      <td>-2.739388</td>\n",
       "      <td>-3.344671</td>\n",
       "      <td>-4.847512</td>\n",
       "      <td>1.768526</td>\n",
       "      <td>2.269085</td>\n",
       "      <td>...</td>\n",
       "      <td>-0.619214</td>\n",
       "      <td>-1.071137</td>\n",
       "      <td>-3.037772</td>\n",
       "      <td>3.972203</td>\n",
       "      <td>0.527291</td>\n",
       "      <td>0.728443</td>\n",
       "      <td>1.445783</td>\n",
       "      <td>-0.545079</td>\n",
       "      <td>-0.902241</td>\n",
       "      <td>-2.654529</td>\n",
       "    </tr>\n",
       "    <tr>\n",
       "      <th>1</th>\n",
       "      <td>1</td>\n",
       "      <td>2.532401</td>\n",
       "      <td>5.411209</td>\n",
       "      <td>6.509906</td>\n",
       "      <td>7.658469</td>\n",
       "      <td>-4.722217</td>\n",
       "      <td>-5.817651</td>\n",
       "      <td>-7.518333</td>\n",
       "      <td>2.164706</td>\n",
       "      <td>4.901063</td>\n",
       "      <td>...</td>\n",
       "      <td>-1.004812</td>\n",
       "      <td>-1.530519</td>\n",
       "      <td>-1.994993</td>\n",
       "      <td>4.281373</td>\n",
       "      <td>0.980205</td>\n",
       "      <td>1.628050</td>\n",
       "      <td>1.951172</td>\n",
       "      <td>-0.889333</td>\n",
       "      <td>-1.323505</td>\n",
       "      <td>-1.749225</td>\n",
       "    </tr>\n",
       "    <tr>\n",
       "      <th>2</th>\n",
       "      <td>1</td>\n",
       "      <td>3.454189</td>\n",
       "      <td>8.198175</td>\n",
       "      <td>10.508439</td>\n",
       "      <td>11.611003</td>\n",
       "      <td>-7.668313</td>\n",
       "      <td>-9.478675</td>\n",
       "      <td>-12.230939</td>\n",
       "      <td>2.840403</td>\n",
       "      <td>7.386357</td>\n",
       "      <td>...</td>\n",
       "      <td>-1.518135</td>\n",
       "      <td>-2.384784</td>\n",
       "      <td>-2.867291</td>\n",
       "      <td>5.396827</td>\n",
       "      <td>1.403973</td>\n",
       "      <td>2.476956</td>\n",
       "      <td>3.039841</td>\n",
       "      <td>-1.334558</td>\n",
       "      <td>-1.993659</td>\n",
       "      <td>-2.348370</td>\n",
       "    </tr>\n",
       "    <tr>\n",
       "      <th>3</th>\n",
       "      <td>1</td>\n",
       "      <td>3.451192</td>\n",
       "      <td>12.113940</td>\n",
       "      <td>16.266853</td>\n",
       "      <td>39.910056</td>\n",
       "      <td>-7.849409</td>\n",
       "      <td>-9.689894</td>\n",
       "      <td>-11.921704</td>\n",
       "      <td>2.851173</td>\n",
       "      <td>10.840889</td>\n",
       "      <td>...</td>\n",
       "      <td>-1.644751</td>\n",
       "      <td>-2.607199</td>\n",
       "      <td>-3.058086</td>\n",
       "      <td>5.501071</td>\n",
       "      <td>1.981933</td>\n",
       "      <td>3.569823</td>\n",
       "      <td>4.049197</td>\n",
       "      <td>-1.432205</td>\n",
       "      <td>-2.146158</td>\n",
       "      <td>-2.488957</td>\n",
       "    </tr>\n",
       "    <tr>\n",
       "      <th>4</th>\n",
       "      <td>1</td>\n",
       "      <td>4.194839</td>\n",
       "      <td>11.455096</td>\n",
       "      <td>15.715298</td>\n",
       "      <td>17.654915</td>\n",
       "      <td>-11.083364</td>\n",
       "      <td>-13.580692</td>\n",
       "      <td>-16.407848</td>\n",
       "      <td>3.480866</td>\n",
       "      <td>10.409176</td>\n",
       "      <td>...</td>\n",
       "      <td>-2.249702</td>\n",
       "      <td>-3.594763</td>\n",
       "      <td>-4.181920</td>\n",
       "      <td>7.174334</td>\n",
       "      <td>1.993808</td>\n",
       "      <td>3.829303</td>\n",
       "      <td>4.402448</td>\n",
       "      <td>-1.930107</td>\n",
       "      <td>-2.931265</td>\n",
       "      <td>-4.088756</td>\n",
       "    </tr>\n",
       "  </tbody>\n",
       "</table>\n",
       "<p>5 rows × 113 columns</p>\n",
       "</div>"
      ],
      "text/plain": [
       "   Label  Sensor_A2  Sensor_A3  Sensor_A4  Sensor_A5  Sensor_A6  Sensor_A7  \\\n",
       "0      1   1.868245   2.371604   2.803678   7.512213  -2.739388  -3.344671   \n",
       "1      1   2.532401   5.411209   6.509906   7.658469  -4.722217  -5.817651   \n",
       "2      1   3.454189   8.198175  10.508439  11.611003  -7.668313  -9.478675   \n",
       "3      1   3.451192  12.113940  16.266853  39.910056  -7.849409  -9.689894   \n",
       "4      1   4.194839  11.455096  15.715298  17.654915 -11.083364 -13.580692   \n",
       "\n",
       "   Sensor_A8  Sensor_B2  Sensor_B3    ...      Sensor_O6  Sensor_O7  \\\n",
       "0  -4.847512   1.768526   2.269085    ...      -0.619214  -1.071137   \n",
       "1  -7.518333   2.164706   4.901063    ...      -1.004812  -1.530519   \n",
       "2 -12.230939   2.840403   7.386357    ...      -1.518135  -2.384784   \n",
       "3 -11.921704   2.851173  10.840889    ...      -1.644751  -2.607199   \n",
       "4 -16.407848   3.480866  10.409176    ...      -2.249702  -3.594763   \n",
       "\n",
       "   Sensor_O8  Sensor_P2  Sensor_P3  Sensor_P4  Sensor_P5  Sensor_P6  \\\n",
       "0  -3.037772   3.972203   0.527291   0.728443   1.445783  -0.545079   \n",
       "1  -1.994993   4.281373   0.980205   1.628050   1.951172  -0.889333   \n",
       "2  -2.867291   5.396827   1.403973   2.476956   3.039841  -1.334558   \n",
       "3  -3.058086   5.501071   1.981933   3.569823   4.049197  -1.432205   \n",
       "4  -4.181920   7.174334   1.993808   3.829303   4.402448  -1.930107   \n",
       "\n",
       "   Sensor_P7  Sensor_P8  \n",
       "0  -0.902241  -2.654529  \n",
       "1  -1.323505  -1.749225  \n",
       "2  -1.993659  -2.348370  \n",
       "3  -2.146158  -2.488957  \n",
       "4  -2.931265  -4.088756  \n",
       "\n",
       "[5 rows x 113 columns]"
      ]
     },
     "execution_count": 4,
     "metadata": {},
     "output_type": "execute_result"
    }
   ],
   "source": [
    "drop_cols = ['Sensor_'+x+'1' for x in map(chr,range(65,81))]\n",
    "drop_cols.append('Batch_No')\n",
    "data = data.drop(drop_cols, axis=1)\n",
    "data.head()"
   ]
  },
  {
   "cell_type": "markdown",
   "metadata": {},
   "source": [
    "#### Summarize the data to better understand its distribution and decide on the appropriate preprocessing steps"
   ]
  },
  {
   "cell_type": "code",
   "execution_count": 5,
   "metadata": {
    "collapsed": false
   },
   "outputs": [
    {
     "data": {
      "text/html": [
       "<div>\n",
       "<table border=\"1\" class=\"dataframe\">\n",
       "  <thead>\n",
       "    <tr style=\"text-align: right;\">\n",
       "      <th></th>\n",
       "      <th>Label</th>\n",
       "      <th>Sensor_A2</th>\n",
       "      <th>Sensor_A3</th>\n",
       "      <th>Sensor_A4</th>\n",
       "      <th>Sensor_A5</th>\n",
       "      <th>Sensor_A6</th>\n",
       "      <th>Sensor_A7</th>\n",
       "      <th>Sensor_A8</th>\n",
       "      <th>Sensor_B2</th>\n",
       "      <th>Sensor_B3</th>\n",
       "      <th>...</th>\n",
       "      <th>Sensor_O6</th>\n",
       "      <th>Sensor_O7</th>\n",
       "      <th>Sensor_O8</th>\n",
       "      <th>Sensor_P2</th>\n",
       "      <th>Sensor_P3</th>\n",
       "      <th>Sensor_P4</th>\n",
       "      <th>Sensor_P5</th>\n",
       "      <th>Sensor_P6</th>\n",
       "      <th>Sensor_P7</th>\n",
       "      <th>Sensor_P8</th>\n",
       "    </tr>\n",
       "  </thead>\n",
       "  <tbody>\n",
       "    <tr>\n",
       "      <th>count</th>\n",
       "      <td>13910.000000</td>\n",
       "      <td>13910.000000</td>\n",
       "      <td>13910.000000</td>\n",
       "      <td>13910.000000</td>\n",
       "      <td>13910.000000</td>\n",
       "      <td>13910.000000</td>\n",
       "      <td>13910.000000</td>\n",
       "      <td>13910.000000</td>\n",
       "      <td>13910.000000</td>\n",
       "      <td>13910.000000</td>\n",
       "      <td>...</td>\n",
       "      <td>13910.000000</td>\n",
       "      <td>13910.000000</td>\n",
       "      <td>13910.000000</td>\n",
       "      <td>13910.000000</td>\n",
       "      <td>13910.000000</td>\n",
       "      <td>13910.000000</td>\n",
       "      <td>13910.000000</td>\n",
       "      <td>13910.000000</td>\n",
       "      <td>13910.000000</td>\n",
       "      <td>13910.000000</td>\n",
       "    </tr>\n",
       "    <tr>\n",
       "      <th>mean</th>\n",
       "      <td>3.387994</td>\n",
       "      <td>6.638156</td>\n",
       "      <td>12.936688</td>\n",
       "      <td>18.743953</td>\n",
       "      <td>26.890695</td>\n",
       "      <td>-9.158655</td>\n",
       "      <td>-14.402383</td>\n",
       "      <td>-59.927598</td>\n",
       "      <td>6.648033</td>\n",
       "      <td>15.538389</td>\n",
       "      <td>...</td>\n",
       "      <td>-5.664942</td>\n",
       "      <td>-9.601927</td>\n",
       "      <td>-19.136500</td>\n",
       "      <td>6.072066</td>\n",
       "      <td>7.138634</td>\n",
       "      <td>14.929364</td>\n",
       "      <td>19.090980</td>\n",
       "      <td>-4.901016</td>\n",
       "      <td>-8.167792</td>\n",
       "      <td>-16.089791</td>\n",
       "    </tr>\n",
       "    <tr>\n",
       "      <th>std</th>\n",
       "      <td>1.728602</td>\n",
       "      <td>13.486391</td>\n",
       "      <td>17.610061</td>\n",
       "      <td>24.899450</td>\n",
       "      <td>38.107685</td>\n",
       "      <td>12.729206</td>\n",
       "      <td>21.304606</td>\n",
       "      <td>131.017675</td>\n",
       "      <td>15.585780</td>\n",
       "      <td>16.557172</td>\n",
       "      <td>...</td>\n",
       "      <td>4.996011</td>\n",
       "      <td>9.220031</td>\n",
       "      <td>26.516679</td>\n",
       "      <td>4.642192</td>\n",
       "      <td>5.248573</td>\n",
       "      <td>12.437311</td>\n",
       "      <td>14.391810</td>\n",
       "      <td>4.195360</td>\n",
       "      <td>7.637701</td>\n",
       "      <td>20.958479</td>\n",
       "    </tr>\n",
       "    <tr>\n",
       "      <th>min</th>\n",
       "      <td>1.000000</td>\n",
       "      <td>0.088287</td>\n",
       "      <td>0.000100</td>\n",
       "      <td>0.000100</td>\n",
       "      <td>0.000100</td>\n",
       "      <td>-131.332873</td>\n",
       "      <td>-227.627758</td>\n",
       "      <td>-1664.735576</td>\n",
       "      <td>0.185164</td>\n",
       "      <td>0.002252</td>\n",
       "      <td>...</td>\n",
       "      <td>-36.163600</td>\n",
       "      <td>-76.069200</td>\n",
       "      <td>-482.278033</td>\n",
       "      <td>0.712112</td>\n",
       "      <td>0.003238</td>\n",
       "      <td>0.011488</td>\n",
       "      <td>0.118849</td>\n",
       "      <td>-30.205911</td>\n",
       "      <td>-58.844076</td>\n",
       "      <td>-410.152297</td>\n",
       "    </tr>\n",
       "    <tr>\n",
       "      <th>25%</th>\n",
       "      <td>2.000000</td>\n",
       "      <td>2.284843</td>\n",
       "      <td>1.633350</td>\n",
       "      <td>2.386836</td>\n",
       "      <td>4.967988</td>\n",
       "      <td>-11.587169</td>\n",
       "      <td>-17.292559</td>\n",
       "      <td>-48.492764</td>\n",
       "      <td>2.776693</td>\n",
       "      <td>3.700962</td>\n",
       "      <td>...</td>\n",
       "      <td>-7.930521</td>\n",
       "      <td>-13.212575</td>\n",
       "      <td>-22.363498</td>\n",
       "      <td>3.007380</td>\n",
       "      <td>3.059178</td>\n",
       "      <td>5.407551</td>\n",
       "      <td>8.039227</td>\n",
       "      <td>-6.789599</td>\n",
       "      <td>-11.162406</td>\n",
       "      <td>-18.938690</td>\n",
       "    </tr>\n",
       "    <tr>\n",
       "      <th>50%</th>\n",
       "      <td>3.000000</td>\n",
       "      <td>3.871227</td>\n",
       "      <td>4.977123</td>\n",
       "      <td>7.250892</td>\n",
       "      <td>11.680725</td>\n",
       "      <td>-3.338700</td>\n",
       "      <td>-4.956917</td>\n",
       "      <td>-14.040088</td>\n",
       "      <td>4.734586</td>\n",
       "      <td>9.968119</td>\n",
       "      <td>...</td>\n",
       "      <td>-4.469910</td>\n",
       "      <td>-7.338850</td>\n",
       "      <td>-13.527887</td>\n",
       "      <td>4.973783</td>\n",
       "      <td>5.809107</td>\n",
       "      <td>11.325215</td>\n",
       "      <td>14.560676</td>\n",
       "      <td>-3.881763</td>\n",
       "      <td>-6.305962</td>\n",
       "      <td>-11.747499</td>\n",
       "    </tr>\n",
       "    <tr>\n",
       "      <th>75%</th>\n",
       "      <td>5.000000</td>\n",
       "      <td>8.400619</td>\n",
       "      <td>17.189165</td>\n",
       "      <td>26.411109</td>\n",
       "      <td>34.843226</td>\n",
       "      <td>-1.126897</td>\n",
       "      <td>-1.670327</td>\n",
       "      <td>-5.212213</td>\n",
       "      <td>8.608522</td>\n",
       "      <td>20.383726</td>\n",
       "      <td>...</td>\n",
       "      <td>-2.043721</td>\n",
       "      <td>-3.260080</td>\n",
       "      <td>-7.358031</td>\n",
       "      <td>7.389566</td>\n",
       "      <td>10.222169</td>\n",
       "      <td>21.207572</td>\n",
       "      <td>26.547437</td>\n",
       "      <td>-1.804032</td>\n",
       "      <td>-2.874532</td>\n",
       "      <td>-6.429690</td>\n",
       "    </tr>\n",
       "    <tr>\n",
       "      <th>max</th>\n",
       "      <td>6.000000</td>\n",
       "      <td>1339.879283</td>\n",
       "      <td>167.079751</td>\n",
       "      <td>226.619457</td>\n",
       "      <td>993.605306</td>\n",
       "      <td>-0.006941</td>\n",
       "      <td>22.201589</td>\n",
       "      <td>115.273147</td>\n",
       "      <td>1672.363221</td>\n",
       "      <td>131.449632</td>\n",
       "      <td>...</td>\n",
       "      <td>-0.009767</td>\n",
       "      <td>9.270956</td>\n",
       "      <td>11.516418</td>\n",
       "      <td>45.574835</td>\n",
       "      <td>32.203601</td>\n",
       "      <td>297.225880</td>\n",
       "      <td>195.242555</td>\n",
       "      <td>-0.003817</td>\n",
       "      <td>6.851792</td>\n",
       "      <td>8.357968</td>\n",
       "    </tr>\n",
       "  </tbody>\n",
       "</table>\n",
       "<p>8 rows × 113 columns</p>\n",
       "</div>"
      ],
      "text/plain": [
       "              Label     Sensor_A2     Sensor_A3     Sensor_A4     Sensor_A5  \\\n",
       "count  13910.000000  13910.000000  13910.000000  13910.000000  13910.000000   \n",
       "mean       3.387994      6.638156     12.936688     18.743953     26.890695   \n",
       "std        1.728602     13.486391     17.610061     24.899450     38.107685   \n",
       "min        1.000000      0.088287      0.000100      0.000100      0.000100   \n",
       "25%        2.000000      2.284843      1.633350      2.386836      4.967988   \n",
       "50%        3.000000      3.871227      4.977123      7.250892     11.680725   \n",
       "75%        5.000000      8.400619     17.189165     26.411109     34.843226   \n",
       "max        6.000000   1339.879283    167.079751    226.619457    993.605306   \n",
       "\n",
       "          Sensor_A6     Sensor_A7     Sensor_A8     Sensor_B2     Sensor_B3  \\\n",
       "count  13910.000000  13910.000000  13910.000000  13910.000000  13910.000000   \n",
       "mean      -9.158655    -14.402383    -59.927598      6.648033     15.538389   \n",
       "std       12.729206     21.304606    131.017675     15.585780     16.557172   \n",
       "min     -131.332873   -227.627758  -1664.735576      0.185164      0.002252   \n",
       "25%      -11.587169    -17.292559    -48.492764      2.776693      3.700962   \n",
       "50%       -3.338700     -4.956917    -14.040088      4.734586      9.968119   \n",
       "75%       -1.126897     -1.670327     -5.212213      8.608522     20.383726   \n",
       "max       -0.006941     22.201589    115.273147   1672.363221    131.449632   \n",
       "\n",
       "           ...          Sensor_O6     Sensor_O7     Sensor_O8     Sensor_P2  \\\n",
       "count      ...       13910.000000  13910.000000  13910.000000  13910.000000   \n",
       "mean       ...          -5.664942     -9.601927    -19.136500      6.072066   \n",
       "std        ...           4.996011      9.220031     26.516679      4.642192   \n",
       "min        ...         -36.163600    -76.069200   -482.278033      0.712112   \n",
       "25%        ...          -7.930521    -13.212575    -22.363498      3.007380   \n",
       "50%        ...          -4.469910     -7.338850    -13.527887      4.973783   \n",
       "75%        ...          -2.043721     -3.260080     -7.358031      7.389566   \n",
       "max        ...          -0.009767      9.270956     11.516418     45.574835   \n",
       "\n",
       "          Sensor_P3     Sensor_P4     Sensor_P5     Sensor_P6     Sensor_P7  \\\n",
       "count  13910.000000  13910.000000  13910.000000  13910.000000  13910.000000   \n",
       "mean       7.138634     14.929364     19.090980     -4.901016     -8.167792   \n",
       "std        5.248573     12.437311     14.391810      4.195360      7.637701   \n",
       "min        0.003238      0.011488      0.118849    -30.205911    -58.844076   \n",
       "25%        3.059178      5.407551      8.039227     -6.789599    -11.162406   \n",
       "50%        5.809107     11.325215     14.560676     -3.881763     -6.305962   \n",
       "75%       10.222169     21.207572     26.547437     -1.804032     -2.874532   \n",
       "max       32.203601    297.225880    195.242555     -0.003817      6.851792   \n",
       "\n",
       "          Sensor_P8  \n",
       "count  13910.000000  \n",
       "mean     -16.089791  \n",
       "std       20.958479  \n",
       "min     -410.152297  \n",
       "25%      -18.938690  \n",
       "50%      -11.747499  \n",
       "75%       -6.429690  \n",
       "max        8.357968  \n",
       "\n",
       "[8 rows x 113 columns]"
      ]
     },
     "execution_count": 5,
     "metadata": {},
     "output_type": "execute_result"
    }
   ],
   "source": [
    "data.describe()"
   ]
  },
  {
   "cell_type": "markdown",
   "metadata": {},
   "source": [
    "### Data preprocessing \n",
    "1. **Dealing with missing values** - Real world datasets often contain missing values, represented by blanks, NaNs etc\n",
    "  1. Discard rows and/or columns containing missing values at the risk of losing valuable data\n",
    "  2. Impute missing values by replacing them with the mean value of the column. An advanced way is to build a regression model to impute the missing values\n",
    "  \n",
    "2. **Encoding categorical features** - Using a label encoder helps us transform non-numerical labels to numerical labels. Another approach is Dummy encoding where you convert an attribute by creating duplicate variables which represents one level of a categorical variable. Presence of a level is represent by 1 and absence is represented by 0. For every level present, one dummy variable will be created. <br> In this dataset our target labels are categorical values that have already been encoded as numerical <br>\n",
    "[1: Ethanol; 2: Ethylene; 3:Ammonia; 4: Acetaldehyde; 5: Acetone; 6: Toluene]\n",
    "3. **Feature scaling** - We standardize the features to ensure that just because some features have a larger magnitude our model won't lead us to using them as the main predictor. Feature scaling helps reduces the training time for models and avoids the optimization from getting stuck in local optima.\n",
    " 1. Min-Max Scaling - Involves rescaling the range of features to scale the range in [0, 1] or [−1, 1]. Selecting the target range depends on the nature of the data.\n",
    " 2. Standardizing a dataset involves rescaling the distribution of values so that the mean of observed values is 0 and the standard deviation is 1.\n",
    " 3. Scaling to unit length - the vector magnitude is used to obtain a vector of unit length. This usually means dividing each component by the [Euclidean length of the vector](https://help.github.com/articles/basic-writing-and-formatting-syntax/#links)."
   ]
  },
  {
   "cell_type": "markdown",
   "metadata": {},
   "source": [
    "#### Separate the data into input and output components and perform feature scaling on the input"
   ]
  },
  {
   "cell_type": "code",
   "execution_count": 6,
   "metadata": {
    "collapsed": false
   },
   "outputs": [],
   "source": [
    "from sklearn import preprocessing\n",
    "target = data['Label']\n",
    "data = data.drop('Label', axis=1)\n",
    "min_max_scaler = preprocessing.MinMaxScaler(feature_range=(-1,1))\n",
    "data_scaled = min_max_scaler.fit_transform(data)"
   ]
  },
  {
   "cell_type": "markdown",
   "metadata": {},
   "source": [
    "### Split the dataset into a training set and test set. \n",
    "\n",
    "If we use the entire dataset to train our model, it will end up modeling random error/noise present in the data, and will have poor predictive performance on unseen future data.  This situation is known as **Overfitting**. To avoid this we hold out part of the available data as a test set and use the remaining for training. Some common splits are 90/10, 80/20, 75/25. \n",
    "\n",
    "There is a risk of overfitting on the test set as you try to optimize the hyperparameters of parametric models to achieve optimal performance.  To solve this problem, yet another part of the dataset can be held out as a so-called “validation set”. Thus training is carried out on the training set, evaluation is done on the validation set and once the parameters have been tuned, final evaluation is carried out on the \"unseen\" test set. \n",
    "\n",
    "The drawback of this approach is that we drastically reduce the number of samples which can be used for learning the model, and the results can depend on a particular random choice for the pair of (train, validation) sets. To solve this we use a procedure called **Cross-validation** which is discussed later."
   ]
  },
  {
   "cell_type": "code",
   "execution_count": 7,
   "metadata": {
    "collapsed": false
   },
   "outputs": [],
   "source": [
    "from sklearn.model_selection import train_test_split\n",
    "X_train, X_test, y_train, y_test = train_test_split(data_scaled, target, test_size=0.25, random_state=0)"
   ]
  },
  {
   "cell_type": "markdown",
   "metadata": {},
   "source": [
    "### Binomial v/s Multinomial classification \n",
    "\n",
    "**Binomial** classification problem is one where the dataset has 2 target classes in the dataset. We are dealing with a **Multinomial** classification problem, as we have more than 2 target classes in our dataset. To leverage binary classifiers for multinomial classification we can use one of the following strategies-\n",
    "1. One-vs-All : It involves training a single classifier per class, with the samples of that class as positive samples and all other samples as negatives.\n",
    "\n",
    "2. One-vs-One : It involves training K(K-1)/2 binary classifiers for a K-multiclass problem; each receives the samples of a pair of classes from the original training set, and must learn to distinguish these two classes. At prediction time, a voting scheme is applied: all K (K − 1) / 2 classifiers are applied to an unseen sample and the class that got the highest number of \"+1\" predictions gets predicted by the combined classifier."
   ]
  },
  {
   "cell_type": "markdown",
   "metadata": {},
   "source": [
    "### Training a model\n",
    "\n",
    "#### Decision Tree - \n",
    "Decision Trees are a non-parametric supervised learning method used for classification and regression. The goal is to create a model that predicts the value of a target variable based on several input variables. It is a flow-chart-like structure, where each internal (non-leaf) node denotes a test on an attribute, each branch represents the outcome of a test, and each leaf (or terminal) node holds a class label. The topmost node in a tree is the root node.\n",
    "\n",
    "Non-parametric models (can) become more and more complex with an increasing amount of data.\n"
   ]
  },
  {
   "cell_type": "code",
   "execution_count": 8,
   "metadata": {
    "collapsed": false
   },
   "outputs": [
    {
     "name": "stdout",
     "output_type": "stream",
     "text": [
      "Accuracy: 0.97\n"
     ]
    }
   ],
   "source": [
    "from sklearn import tree\n",
    "dt_classifier = tree.DecisionTreeClassifier()\n",
    "dt_classifier = dt_classifier.fit(X_train, y_train)\n",
    "y_pred = dt_classifier.predict(X_test)\n",
    "print \"Accuracy: %0.2f\" %dt_classifier.score(X_test, y_test)"
   ]
  },
  {
   "cell_type": "markdown",
   "metadata": {},
   "source": [
    "In the above code snippet we fit a decision tree to our dataset, used it to make predictions on our test set and we calculated its accuracy as the number of correct predictions from all predictions made. Accuracy is a starting point but is not a sufficient measure for evaluating a model's predictive power due to a phenomena known as [**Accuracy Paradox**](https://tryolabs.com/blog/2013/03/25/why-accuracy-alone-bad-measure-classification-tasks-and-what-we-can-do-about-it/). It yields misleading results if the data set is unbalanced.\n"
   ]
  },
  {
   "cell_type": "markdown",
   "metadata": {},
   "source": [
    "### Model evaluation metrics\n",
    "\n",
    "A clean and unambiguous way to visualize the performance of a classifier is to use a use a **Confusion matrix**\n",
    "\n",
    "                          \n",
    "\n",
    "|                                 | *Predicted class - Positive* | *Predicted class - Negative* |\n",
    "|---------------------------------|----------------------------------|                                  |\n",
    "|**_Acutal class - Positive_**  |  True Positive  (TP)             |   False negative  (FN)           |\n",
    "|**_Acutal class - Negative_**  |  False Positive (FP)             |   True negative   (TN)           |\n",
    "\n",
    "- True Positives (TP): number of positive examples, labeled as such.\n",
    "- False Positives (FP): number of negative examples, labeled as positive.\n",
    "- True Negatives (TN): number of negative examples, labeled as such.\n",
    "- False Negatives (FN): number of positive examples, labeled as negative.\n",
    "\n",
    "We use these values to calculate **Precision** and **Recall**-\n",
    "\n",
    "1. Precision answers the following question : out of all the examples the classifier labeled as positive, what fraction were correct. \n",
    " $$Precision = \\frac{TP}{TP + FP}$$\n",
    "\n",
    "2. Recall answers out of all the positive examples there were, what fraction did the classifier pick up. It is calculated as - \n",
    " $$Recall = \\frac{TP}{TP + FN}$$\n",
    "\n",
    "The harmonic mean of Precision and Recall is known as the **F1 Score**. It conveys the balance between the precision and the recall. \n",
    "$$ F_1  score = \\frac{2 \\times Precision \\times Recall}{Precision + Recall}$$\n",
    "\n"
   ]
  },
  {
   "cell_type": "markdown",
   "metadata": {},
   "source": [
    "Let's visualize the confusion matrix for the decision tree. The sci-kit learn method just returns a nested array without any labels, so we plot for easier interpretation"
   ]
  },
  {
   "cell_type": "code",
   "execution_count": 9,
   "metadata": {
    "collapsed": false
   },
   "outputs": [
    {
     "data": {
      "image/png": "[encoded data removed]",
      "text/plain": [
       "<matplotlib.figure.Figure at 0xcb327b8>"
      ]
     },
     "metadata": {},
     "output_type": "display_data"
    }
   ],
   "source": [
    "from sklearn.metrics import confusion_matrix\n",
    "import matplotlib.pyplot as plt\n",
    "import itertools\n",
    "%matplotlib inline\n",
    "\n",
    "def plot_confusion_matrix(cm, classes, title='Confusion matrix', cmap=plt.cm.Blues):\n",
    "   \n",
    "    plt.imshow(cm, interpolation='nearest', cmap=cmap)\n",
    "    plt.title(title)\n",
    "    plt.colorbar()\n",
    "    \n",
    "    tick_marks = np.arange(len(classes))\n",
    "    plt.xticks(tick_marks, classes, rotation=45)\n",
    "    plt.yticks(tick_marks, classes)\n",
    "\n",
    "    thresh = cm.max() / 2.\n",
    "    for i, j in itertools.product(range(cm.shape[0]), range(cm.shape[1])):\n",
    "        plt.text(j, i, cm[i, j], horizontalalignment=\"center\",\n",
    "                 color=\"white\" if cm[i, j] > thresh else \"black\")\n",
    "\n",
    "    plt.tight_layout()\n",
    "    plt.ylabel('True label')\n",
    "    plt.xlabel('Predicted label')\n",
    "    return\n",
    "\n",
    "\n",
    "#plt.figure()\n",
    "plot_confusion_matrix(confusion_matrix(y_test, y_pred), classes=[\"Ethanol\", \"Ethylene\", \"Ammonia\", \"Acetaldehyde\", \"Acetone\", \"Toluene\"],\n",
    "                      title='Confusion matrix')"
   ]
  },
  {
   "cell_type": "markdown",
   "metadata": {},
   "source": [
    "#### We use one of the methods to compute Precision, Recall and F-1 score for each class. "
   ]
  },
  {
   "cell_type": "code",
   "execution_count": 10,
   "metadata": {
    "collapsed": false
   },
   "outputs": [
    {
     "name": "stdout",
     "output_type": "stream",
     "text": [
      "              precision    recall  f1-score   support\n",
      "\n",
      "     Ethanol       0.98      0.97      0.98       620\n",
      "    Ethylene       0.98      0.98      0.98       737\n",
      "     Ammonia       0.96      0.97      0.97       400\n",
      "Acetaldehyde       0.95      0.95      0.95       505\n",
      "     Acetone       0.98      0.98      0.98       744\n",
      "     Toluene       0.96      0.96      0.96       472\n",
      "\n",
      " avg / total       0.97      0.97      0.97      3478\n",
      "\n"
     ]
    }
   ],
   "source": [
    "from sklearn.metrics import classification_report\n",
    "print classification_report(y_test, y_pred, target_names=[\"Ethanol\", \"Ethylene\", \"Ammonia\", \"Acetaldehyde\", \"Acetone\", \"Toluene\"])"
   ]
  },
  {
   "cell_type": "markdown",
   "metadata": {},
   "source": [
    "### Cross-Validation\n",
    "\n",
    "Cross validation is a method for estimating the prediction accuracy of a model on an unseen dataset without using a validation set. Instead of just holding out one part of the data to train on, you hold out different parts. For each part, you train on the rest, and evaluate the set you held out. Now you have effectively used all of your data for testing & training, without testing on data you trained on.\n",
    "\n",
    "The different methods are - \n",
    "\n",
    "1. **k-fold CV** -  The training set is split into k smaller sets and the model is trained using k-1 folds. The resulting model is validated on the remaining part of the data\n",
    "2. **Leave One out** - Each learning set is created by taking all the samples except one, the test set being the sample left out. Thus, for n samples, we have n different training sets and n different tests set. \n",
    "3. **Leave P Out** - Similar to Leave One out as it creates all the possible training/test sets by removing p samples from the complete set. \n",
    "4. **Random Shuffle & Split** - It will generate a user defined number of independent train / test dataset splits. Samples are first shuffled and then split into a pair of train and test sets."
   ]
  },
  {
   "cell_type": "code",
   "execution_count": 11,
   "metadata": {
    "collapsed": false
   },
   "outputs": [],
   "source": [
    "from sklearn.model_selection import cross_val_score\n",
    "\n",
    "def cv_score(clf,k):\n",
    "    f1_scores = cross_val_score(clf, data_scaled, target, cv=k, scoring='f1_macro')\n",
    "    print f1_scores\n",
    "    print(\"F1 score: %0.2f (+/- %0.2f)\" % (f1_scores.mean(), f1_scores.std() * 2))\n",
    "    return"
   ]
  },
  {
   "cell_type": "markdown",
   "metadata": {},
   "source": [
    "By default, the score computed at each CV iteration is the score method of the estimator. \n",
    "It is possible to change this by using the scoring parameter"
   ]
  },
  {
   "cell_type": "code",
   "execution_count": 12,
   "metadata": {
    "collapsed": false
   },
   "outputs": [
    {
     "name": "stdout",
     "output_type": "stream",
     "text": [
      "[ 0.68419802  0.791744    0.79991828  0.84505997  0.95328272  0.85304886\n",
      "  0.94470287  0.97094788  0.92755205  0.69721638]\n",
      "F1 score: 0.85 (+/- 0.20)\n"
     ]
    }
   ],
   "source": [
    "cv_score(dt_classifier,10)"
   ]
  },
  {
   "cell_type": "markdown",
   "metadata": {},
   "source": [
    "### Ensemble learning\n",
    "\n",
    "Ensemble methods are a divide-and-conquer approach used to improve performance. The main principle behind ensemble methods is that a group of “weak learners” can come together to form a “strong learner”.Ensemble learning methods use multiple learning algorithms to obtain better predictive performance than could be obtained from any of the constituent learning algorithms alone. One such method is Random Forests.\n",
    "\n",
    "#### Random Forests\n",
    "Decision trees are a popular & easy to interpret method but trees that are grown very deep tend to learn highly irregular patterns (noise). They tend to overfit their training sets i.e have low bias but very high variance. \n",
    "\n",
    "Random Forests a way of averaging multiple deep decision trees, trained on different parts of the same training set, with the goal of reducing the variance.This comes at the expense of a small increase in the bias and some loss of interpretability, but generally greatly boosts the performance of the final model as the individual decision trees are less correlated. \n",
    "So how are the trees different? Well,\n",
    "1. We used random samples of the observations to train them (they've each seen only part of the data) , and\n",
    "2. We used a subset of the features for each tree.\n"
   ]
  },
  {
   "cell_type": "code",
   "execution_count": 13,
   "metadata": {
    "collapsed": false
   },
   "outputs": [
    {
     "name": "stdout",
     "output_type": "stream",
     "text": [
      "[ 0.77941588  0.79215406  0.86355765  0.92854149  0.95888355  0.89723385\n",
      "  0.96680497  0.99229405  0.98767228  0.78445718]\n",
      "F1 score: 0.90 (+/- 0.16)\n"
     ]
    }
   ],
   "source": [
    "from sklearn.ensemble import RandomForestClassifier\n",
    "rf_classifier = RandomForestClassifier(n_estimators=5)\n",
    "#rf_classifier = rf_classifier.fit(X_train, y_train)\n",
    "#y_pred_rf = classifier.predict(X_test)\n",
    "cv_score(rf_classifier,10)"
   ]
  },
  {
   "cell_type": "markdown",
   "metadata": {},
   "source": [
    "Uncomment the following snippets of code to view the confusion matrix and classification report for the Random forest model."
   ]
  },
  {
   "cell_type": "code",
   "execution_count": 14,
   "metadata": {
    "collapsed": false
   },
   "outputs": [],
   "source": [
    "#plot_confusion_matrix(confusion_matrix(y_test, y_pred_rf), classes=[\"Ethanol\", \"Ethylene\", \"Ammonia\", \"Acetaldehyde\", \"Acetone\", \"Toluene\"],\n",
    "#                      title='Confusion matrix')"
   ]
  },
  {
   "cell_type": "code",
   "execution_count": 15,
   "metadata": {
    "collapsed": false
   },
   "outputs": [],
   "source": [
    "#print classification_report(y_test, y_pred_rf, target_names=[\"Ethanol\", \"Ethylene\", \"Ammonia\", \"Acetaldehyde\", \"Acetone\", \"Toluene\"])"
   ]
  },
  {
   "cell_type": "markdown",
   "metadata": {},
   "source": [
    "### Bias - Variance Trade off\n",
    "\n",
    "The bias–variance tradeoff is the problem of simultaneously minimizing two sources of error that prevent supervised learning algorithms from generalizing beyond their training set. \n",
    "\n",
    "- **Bias** : error from erroneous assumptions in the learning algorithm. High bias can cause underfitting : algorithm misses the relevant relations between features and target outputs.\n",
    "\n",
    "- **Variance** : error from sensitivity to small fluctuations in the training set. High variance can cause overfitting: modeling the random noise in the training data, rather than the intended outputs.\n"
   ]
  },
  {
   "cell_type": "markdown",
   "metadata": {},
   "source": [
    "### Support Vector Machines\n",
    "\n",
    "An SVM model is a representation of the examples as points in space, mapped so that the examples of the separate categories are divided by a clear gap that is as wide as possible. New examples are then mapped into that same space and predicted to belong to a category based on which side of the gap they fall. It is a parametric learner hence we have a finite number of parameters."
   ]
  },
  {
   "cell_type": "code",
   "execution_count": 16,
   "metadata": {
    "collapsed": true
   },
   "outputs": [],
   "source": [
    "from sklearn import svm"
   ]
  },
  {
   "cell_type": "code",
   "execution_count": 17,
   "metadata": {
    "collapsed": false
   },
   "outputs": [
    {
     "name": "stdout",
     "output_type": "stream",
     "text": [
      "[ 0.62025345  0.51712656  0.64233896  0.87934393  0.95353232  0.90221303\n",
      "  0.7227663   0.79198555  0.82351838  0.77660783]\n",
      "F1 score: 0.76 (+/- 0.26)\n"
     ]
    }
   ],
   "source": [
    "svm_classifier = svm.SVC(C=1.0, kernel='rbf', gamma='auto', cache_size=9000, decision_function_shape = 'ovr')\n",
    "cv_score(svm_classifier,10)"
   ]
  },
  {
   "cell_type": "markdown",
   "metadata": {},
   "source": [
    "### Hyperparameter optimization\n",
    "\n",
    "Hyperparameter optimization is the problem of choosing a set of hyperparameters for a learning algorithm, usually with the goal of optimizing a measure of the algorithm's performance.\n",
    "\n",
    "#### Grid Search \n",
    "\n",
    "Grid search, or a parameter sweep, is simply an exhaustive searching through a manually specified subset of the hyperparameter space of a learning algorithm. A grid search algorithm must be guided by some performance metric, typically measured by cross-validation on the training set or evaluation on a held-out validation set."
   ]
  },
  {
   "cell_type": "code",
   "execution_count": null,
   "metadata": {
    "collapsed": false
   },
   "outputs": [],
   "source": [
    "from sklearn.model_selection import GridSearchCV\n",
    "from sklearn.model_selection import StratifiedShuffleSplit\n",
    "\n",
    "param_grid = [\n",
    "  {'C': [1, 10, 100, 1000], 'kernel': ['linear']},\n",
    "  {'C': [1, 10, 100, 1000], 'gamma': [0.001, 0.0001], 'kernel': ['rbf']},\n",
    " ]\n",
    "\n",
    "cv = StratifiedShuffleSplit(n_splits=5, test_size=0.2, random_state=42)\n",
    "grid = GridSearchCV(svm.SVC(), param_grid=param_grid, cv=cv)\n",
    "\n",
    "grid.fit(data, target)\n",
    "\n",
    "print(\"The best parameters are %s with a score of %0.2f\"\n",
    "      % (grid.best_params_, grid.best_score_))"
   ]
  },
  {
   "cell_type": "markdown",
   "metadata": {},
   "source": [
    "StratifiedShuffleSplit used above is a variation of ShuffleSplit, which returns stratified splits, i.e which creates splits by preserving the same percentage for each target class as in the complete set."
   ]
  }
 ],
 "metadata": {
  "anaconda-cloud": {},
  "kernelspec": {
   "display_name": "Python [conda root]",
   "language": "python",
   "name": "conda-root-py"
  },
  "language_info": {
   "codemirror_mode": {
    "name": "ipython",
    "version": 2
   },
   "file_extension": ".py",
   "mimetype": "text/x-python",
   "name": "python",
   "nbconvert_exporter": "python",
   "pygments_lexer": "ipython2",
   "version": "2.7.12"
  }
 },
 "nbformat": 4,
 "nbformat_minor": 1
}
